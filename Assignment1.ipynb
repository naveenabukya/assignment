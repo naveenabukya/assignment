{
  "nbformat": 4,
  "nbformat_minor": 0,
  "metadata": {
    "colab": {
      "name": "Assignment1.ipynb",
      "provenance": [],
      "collapsed_sections": [],
      "authorship_tag": "ABX9TyPn6ZdFRnurp2d5YS2+c9Cb",
      "include_colab_link": true
    },
    "kernelspec": {
      "name": "python3",
      "display_name": "Python 3"
    },
    "language_info": {
      "name": "python"
    }
  },
  "cells": [
    {
      "cell_type": "markdown",
      "metadata": {
        "id": "view-in-github",
        "colab_type": "text"
      },
      "source": [
        "<a href=\"https://colab.research.google.com/github/naveenabukya/assignment/blob/main/Assignment1.ipynb\" target=\"_parent\"><img src=\"https://colab.research.google.com/assets/colab-badge.svg\" alt=\"Open In Colab\"/></a>"
      ]
    },
    {
      "cell_type": "code",
      "metadata": {
        "id": "pdfr0-65iZT7"
      },
      "source": [
        "# Building a claculator for subtraction"
      ],
      "execution_count": null,
      "outputs": []
    },
    {
      "cell_type": "code",
      "metadata": {
        "colab": {
          "base_uri": "https://localhost:8080/"
        },
        "id": "TCHPOUHNi55y",
        "outputId": "b532f543-d8f1-4f8f-ba3c-c8b2f7b03bf5"
      },
      "source": [
        "a=int(input(\"Enter a number:\"))\n",
        "b=int(input(\"Enter a number:\"))\n",
        "Solution= a-b\n",
        "print(\"The answer is:\",Solution)\n",
        "\n"
      ],
      "execution_count": null,
      "outputs": [
        {
          "output_type": "stream",
          "text": [
            "Enter a number:10\n",
            "Enter a number:2\n",
            "The answer is: 8\n"
          ],
          "name": "stdout"
        }
      ]
    },
    {
      "cell_type": "code",
      "metadata": {
        "id": "HiyLYkBjkfcO"
      },
      "source": [
        "#Building a calculator for multiplication\n"
      ],
      "execution_count": null,
      "outputs": []
    },
    {
      "cell_type": "code",
      "metadata": {
        "colab": {
          "base_uri": "https://localhost:8080/"
        },
        "id": "Mwfon10jklrV",
        "outputId": "9ffdd720-6b5d-429d-f629-2a46b4965208"
      },
      "source": [
        "a=int(input(\"Enter a number:\"))\n",
        "b=int(input(\"Enter a number:\"))\n",
        "Solution= a*b\n",
        "print(\"The answer is:\",Solution)\n"
      ],
      "execution_count": null,
      "outputs": [
        {
          "output_type": "stream",
          "text": [
            "Enter a number:100\n",
            "Enter a number:2\n",
            "The answer is: 200\n"
          ],
          "name": "stdout"
        }
      ]
    },
    {
      "cell_type": "code",
      "metadata": {
        "id": "mbZixRV_mV6Y"
      },
      "source": [
        "# Building a calculator for division"
      ],
      "execution_count": null,
      "outputs": []
    },
    {
      "cell_type": "code",
      "metadata": {
        "colab": {
          "base_uri": "https://localhost:8080/"
        },
        "id": "OLRCdK34mYjB",
        "outputId": "b54d8f45-39a3-4bb3-aeba-b819e42e2c52"
      },
      "source": [
        "a=int(input(\"Enter a number:\"))\n",
        "b=int(input(\"Enter a number:\"))\n",
        "Solution= a/b\n",
        "print(\"The answer is:\",Solution)"
      ],
      "execution_count": null,
      "outputs": [
        {
          "output_type": "stream",
          "text": [
            "Enter a number:20\n",
            "Enter a number:4\n",
            "The answer is: 5.0\n"
          ],
          "name": "stdout"
        }
      ]
    }
  ]
}